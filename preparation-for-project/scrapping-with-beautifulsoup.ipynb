{
 "cells": [
  {
   "cell_type": "markdown",
   "metadata": {},
   "source": [
    "This is a step by step guide for web scraping using BeautifulSoup"
   ]
  },
  {
   "cell_type": "code",
   "execution_count": null,
   "metadata": {},
   "outputs": [],
   "source": [
    "import requests\n",
    "from bs4 import BeautifulSoup\n",
    "import re\n",
    "import csv"
   ]
  },
  {
   "cell_type": "code",
   "execution_count": null,
   "metadata": {},
   "outputs": [],
   "source": [
    "categories_path = [\n",
    "    \"Immobilier\", \n",
    "    \"ImmoNeuf/Immobilier%20Neuf\"\n",
    "]\n",
    "base_url = \"https://www.tayara.tn/ads/c/{}/?page={}\"\n",
    "\n",
    "for category in categories_path:\n",
    "    for page in range(1, 5):  # Limiter à 5 pages pour l'exemple\n",
    "        url = base_url.format(category, page)\n",
    "        response = requests.get(url)\n",
    "        soup = BeautifulSoup(response.text, 'html.parser')\n",
    "        # annonces = soup.find_all('div', class_='relative -z-40')"
   ]
  },
  {
   "cell_type": "code",
   "execution_count": null,
   "metadata": {},
   "outputs": [],
   "source": [
    "# permet de retourner tous les liens de chaque immobilier\n",
    "# vs pouvez inspecter https://www.tayara.tn/item/66eae8a467b755ba922a2a58/Immobilier%20Neuf/Ariana/Ghazela/Appartement_en_S2_de_12880_m_A41_au_4me_tage/\n",
    "def get_all_links(soup):\n",
    "    property_links = []\n",
    "    for article in soup.find_all('article', class_=\"mx-0\"):\n",
    "        link = article.find('a')['href']\n",
    "        if '/item/' in link:\n",
    "            full_url = \"https://www.tayara.tn\" + link\n",
    "            property_links.append(full_url)\n",
    "    return property_links"
   ]
  },
  {
   "cell_type": "code",
   "execution_count": null,
   "metadata": {},
   "outputs": [],
   "source": [
    "all_fieldnames = set()\n",
    "\n",
    "def crawl_property_page(url):\n",
    "    response = requests.get(url)\n",
    "    soup = BeautifulSoup(response.content, 'html.parser')\n",
    "    item_info = {}\n",
    "\n",
    "    try:\n",
    "        # Titre\n",
    "        title = soup.find('h1', class_='text-gray-700 font-bold text-2xl font-arabic').text.strip()\n",
    "\n",
    "        # Configuration des pièces\n",
    "        pieces = re.search(r'S\\+\\d+', title)\n",
    "        pieces_value = pieces.group() if pieces else None\n",
    "\n",
    "        # Récupérer les parties du prix\n",
    "        price_parts = soup.find_all('span', class_='mr-1')\n",
    "        price = ''.join([part.text.strip() for part in price_parts if part.text.strip().isdigit()])\n",
    "\n",
    "        # Localisation\n",
    "        location = soup.find('div', class_='flex items-center space-x-2 mb-1').text.strip().split(',')[0].strip()\n",
    "\n",
    "        # Ajouter les informations de base\n",
    "        item_info['Annonce'] = title\n",
    "        item_info['Prix'] = price\n",
    "        item_info['Localisation'] = location\n",
    "        item_info['Configuration des pièces'] = pieces_value\n",
    "\n",
    "        # Ajouter dynamiquement les nouvelles clés à item_info\n",
    "        criterias = soup.find_all('span', class_='text-gray-600/80 text-2xs md:text-xs lg:text-xs font-medium')\n",
    "        values = soup.find_all('span', class_='text-gray-700/80 text-xs md:text-sm lg:text-sm font-semibold')\n",
    "\n",
    "        # Associer chaque critère à sa valeur\n",
    "        for criteria, value in zip(criterias, values):\n",
    "            criterion_text = criteria.text.strip()\n",
    "            value_text = value.text.strip()\n",
    "\n",
    "            if criterion_text == \"\":\n",
    "                criterion_text = \"Autre\"\n",
    "\n",
    "            # Ajouter les nouvelles clés à item_info\n",
    "            item_info[criterion_text] = value_text\n",
    "\n",
    "            # Mettre à jour la liste globale des fieldnames\n",
    "            all_fieldnames.add(criterion_text)\n",
    "\n",
    "        return item_info\n",
    "\n",
    "    except AttributeError:\n",
    "        print(\"Une information n'a pas pu être extraite correctement.\")\n",
    "        return None"
   ]
  },
  {
   "cell_type": "code",
   "execution_count": null,
   "metadata": {},
   "outputs": [],
   "source": [
    "property_links = get_all_links(soup)\n",
    " # Exemple avec le lien https://www.tayara.tn/item/66eae8a467b755ba922a2a58/Immobilier%20Neuf/Ariana/Ghazela/Appartement_en_S2_de_12880_m_A41_au_4me_tage/\n",
    "data = crawl_property_page(property_links[0])\n",
    "print(data)"
   ]
  },
  {
   "cell_type": "code",
   "execution_count": null,
   "metadata": {},
   "outputs": [],
   "source": [
    "def save_to_csv(data, filename=\"immobiliers.csv\"):\n",
    "    if not data:\n",
    "        print(\"Aucune donnée à sauvegarder.\")\n",
    "        return\n",
    "    with open(filename, mode='w', newline='', encoding='utf-8') as file:\n",
    "        fieldnames = data[0].keys() # features\n",
    "        writer = csv.DictWriter(file, fieldnames=fieldnames)\n",
    "        writer.writeheader()\n",
    "        for row in data:\n",
    "            writer.writerow(row)"
   ]
  },
  {
   "cell_type": "code",
   "execution_count": null,
   "metadata": {},
   "outputs": [],
   "source": [
    "# test sur un seul élément\n",
    "# save_to_csv(data, \"immobiliers.csv\")"
   ]
  },
  {
   "cell_type": "code",
   "execution_count": null,
   "metadata": {},
   "outputs": [],
   "source": [
    "data = []\n",
    "for link in property_links:\n",
    "    data.append(crawl_property_page(link))\n",
    "save_to_csv(data, \"immobiliers.csv\")"
   ]
  }
 ],
 "metadata": {
  "kernelspec": {
   "display_name": "Python 3",
   "language": "python",
   "name": "python3"
  },
  "language_info": {
   "codemirror_mode": {
    "name": "ipython",
    "version": 3
   },
   "file_extension": ".py",
   "mimetype": "text/x-python",
   "name": "python",
   "nbconvert_exporter": "python",
   "pygments_lexer": "ipython3",
   "version": "3.12.6"
  }
 },
 "nbformat": 4,
 "nbformat_minor": 2
}
