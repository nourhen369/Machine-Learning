{
 "cells": [
  {
   "cell_type": "code",
   "execution_count": 30,
   "metadata": {},
   "outputs": [],
   "source": [
    "import pandas as pd\n",
    "import re"
   ]
  },
  {
   "cell_type": "code",
   "execution_count": 21,
   "metadata": {},
   "outputs": [],
   "source": [
    "df = pd.read_csv('immobiliers.csv')"
   ]
  },
  {
   "cell_type": "code",
   "execution_count": 26,
   "metadata": {},
   "outputs": [
    {
     "name": "stdout",
     "output_type": "stream",
     "text": [
      "<class 'pandas.core.frame.DataFrame'>\n",
      "Index: 627 entries, 7 to 1642\n",
      "Data columns (total 8 columns):\n",
      " #   Column                    Non-Null Count  Dtype  \n",
      "---  ------                    --------------  -----  \n",
      " 0   Superficie                627 non-null    object \n",
      " 1   Type de bien              627 non-null    object \n",
      " 2   Configuration des pièces  277 non-null    object \n",
      " 3   Prix                      516 non-null    float64\n",
      " 4   Localisation              627 non-null    object \n",
      " 5   Chambres                  627 non-null    object \n",
      " 6   Annonce                   627 non-null    object \n",
      " 7   Salles de bains           627 non-null    object \n",
      "dtypes: float64(1), object(7)\n",
      "memory usage: 44.1+ KB\n"
     ]
    }
   ],
   "source": [
    "df.info()"
   ]
  },
  {
   "cell_type": "code",
   "execution_count": null,
   "metadata": {},
   "outputs": [
    {
     "name": "stdout",
     "output_type": "stream",
     "text": [
      "     Superficie Type de bien Configuration des pièces      Prix Localisation  \\\n",
      "1638      False  Appartement                      S+2  286269.0         Sfax   \n",
      "1639      125.8  Appartement                      S+2  232730.0         Sfax   \n",
      "1640     183.21  Appartement                      S+3  338939.0         Sfax   \n",
      "1641     202.79  Appartement                      S+3  375162.0         Sfax   \n",
      "1642     191.02  Appartement                      S+3  353387.0         Sfax   \n",
      "\n",
      "     Chambres                                       Annonce Salles de bains  \n",
      "1638    False   Appartement (C2-8) en S+2 au deuxième étage           False  \n",
      "1639        2   Appartement (C2-9) en S+2 au deuxième étage               1  \n",
      "1640        3  Appartement (A4-9) en S+3 au quatrième étage               3  \n",
      "1641        3   Appartement (C2-3) en S+3 au deuxième étage               3  \n",
      "1642        3   Appartement (C2-6) en S+3 au deuxième étage               3  \n"
     ]
    }
   ],
   "source": [
    "# on s'interesse que sur les biens à vendre\n",
    "# execute right after reading the csv, marra wahda barka\n",
    "df = df[df['Type de transaction'] == 'À Vendre']\n",
    "df = df.drop(columns=['Type de transaction'])\n",
    "print(df.tail())"
   ]
  },
  {
   "cell_type": "code",
   "execution_count": 31,
   "metadata": {},
   "outputs": [
    {
     "name": "stdout",
     "output_type": "stream",
     "text": [
      "Empty DataFrame\n",
      "Columns: [Superficie, Type de bien, Configuration des pièces, Prix, Localisation, Chambres, Annonce, Salles de bains]\n",
      "Index: []\n"
     ]
    }
   ],
   "source": [
    "# Nombre de lignes avec 'Configuration des pièces' non nulle et 'Chambres' nulle: 12\n",
    "condition1 = df[(df['Configuration des pièces']=='False') & (df['Chambres'].isnull())]\n",
    "for idx, row in condition1.iterrows():\n",
    "    config_pieces = row['Configuration des pièces']\n",
    "    \n",
    "    # Vérifier si la configuration est de la forme 'S+numéro'\n",
    "    match = re.search(r'S\\+(\\d+)', config_pieces)\n",
    "    \n",
    "    if match:\n",
    "        # Extraire le nombre de pièces et l'attribuer à 'Chambres'\n",
    "        df.at[idx, 'Chambres'] = int(match.group(1))\n",
    "\n",
    "# Vérifier les modifications\n",
    "print(df.loc[condition1.index])"
   ]
  },
  {
   "cell_type": "code",
   "execution_count": 23,
   "metadata": {},
   "outputs": [],
   "source": [
    "df = df.drop_duplicates()"
   ]
  },
  {
   "cell_type": "code",
   "execution_count": 25,
   "metadata": {},
   "outputs": [],
   "source": [
    "df['Prix'] = pd.to_numeric(df['Prix'], errors='coerce')"
   ]
  }
 ],
 "metadata": {
  "kernelspec": {
   "display_name": "Python 3",
   "language": "python",
   "name": "python3"
  },
  "language_info": {
   "codemirror_mode": {
    "name": "ipython",
    "version": 3
   },
   "file_extension": ".py",
   "mimetype": "text/x-python",
   "name": "python",
   "nbconvert_exporter": "python",
   "pygments_lexer": "ipython3",
   "version": "3.12.6"
  }
 },
 "nbformat": 4,
 "nbformat_minor": 2
}
