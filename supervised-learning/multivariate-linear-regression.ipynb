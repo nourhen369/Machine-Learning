{
 "cells": [
  {
   "cell_type": "markdown",
   "metadata": {},
   "source": [
    "Linear Regression: Multivariate (House price prediction)"
   ]
  },
  {
   "cell_type": "markdown",
   "metadata": {},
   "source": [
    "Supposons que vous souhaitez vendre votre maison qui se trouve à Tunis. Pour estimer le bon prix, vous disposez de l’historique des prix de vente effectuées à Tunis. Ainsi, pour chaque maison vendu (une observation), on dispose des données suivantes: La taille de la superficie en pieds² (Un pied² fait environ 0,092 m²), le nombre de chambre de la maison, le prix."
   ]
  },
  {
   "cell_type": "code",
   "execution_count": 1,
   "metadata": {},
   "outputs": [],
   "source": [
    "import pandas as pd\n",
    "import statsmodels.api as sm\n",
    "from sklearn.preprocessing import StandardScaler\n",
    "import numpy as np\n",
    "from mpl_toolkits.mplot3d import Axes3D \n",
    "import matplotlib.pyplot as plt "
   ]
  },
  {
   "cell_type": "code",
   "execution_count": 2,
   "metadata": {},
   "outputs": [
    {
     "name": "stdout",
     "output_type": "stream",
     "text": [
      "   taille_en_pieds_carre  nb_chambres    prix\n",
      "0                   2104            3  399900\n",
      "1                   1600            3  329900\n",
      "2                   2400            3  369000\n",
      "3                   1416            2  232000\n",
      "4                   3000            4  539900\n"
     ]
    }
   ],
   "source": [
    "df = pd.read_excel(\"./DB/multivariateLinearRegression.xlsx\")\n",
    "print(df.head()) "
   ]
  },
  {
   "cell_type": "code",
   "execution_count": null,
   "metadata": {},
   "outputs": [],
   "source": [
    "Y = df[\"prix\"]\n",
    "X = df[['taille_en_pieds_carre','nb_chambres']] "
   ]
  },
  {
   "cell_type": "code",
   "execution_count": null,
   "metadata": {},
   "outputs": [],
   "source": [
    "# Pour obtenir une visualisation correcte des données, nous commencerons\n",
    "# par normaliser les données pour avoir une moyenne de 0 et un écart type de 1.\n",
    "\n",
    "scale = StandardScaler()\n",
    "X_scaled = scale.fit_transform(X[['taille_en_pieds_carre','nb_chambres']].to_numpy())\n",
    "# print(X_scaled) "
   ]
  },
  {
   "cell_type": "markdown",
   "metadata": {},
   "source": [
    "La méthode des moindres carrés ordinaires (OLS) est utilisée pour estimer les\n",
    "paramètres inconnus dans un modèle de régression linéaire, en minimisant la somme des différences au carré entre les valeurs observées et prédites."
   ]
  },
  {
   "cell_type": "code",
   "execution_count": 5,
   "metadata": {},
   "outputs": [
    {
     "name": "stdout",
     "output_type": "stream",
     "text": [
      "                                 OLS Regression Results                                \n",
      "=======================================================================================\n",
      "Dep. Variable:                   prix   R-squared (uncentered):                   0.966\n",
      "Model:                            OLS   Adj. R-squared (uncentered):              0.964\n",
      "Method:                 Least Squares   F-statistic:                              631.4\n",
      "Date:                Sun, 01 Dec 2024   Prob (F-statistic):                    1.19e-33\n",
      "Time:                        23:03:12   Log-Likelihood:                         -589.11\n",
      "No. Observations:                  47   AIC:                                      1182.\n",
      "Df Residuals:                      45   BIC:                                      1186.\n",
      "Df Model:                           2                                                  \n",
      "Covariance Type:            nonrobust                                                  \n",
      "=========================================================================================\n",
      "                            coef    std err          t      P>|t|      [0.025      0.975]\n",
      "-----------------------------------------------------------------------------------------\n",
      "taille_en_pieds_carre   140.8611     15.355      9.174      0.000     109.935     171.788\n",
      "nb_chambres            1.698e+04   1.01e+04      1.676      0.101   -3424.632    3.74e+04\n",
      "==============================================================================\n",
      "Omnibus:                        2.046   Durbin-Watson:                   1.923\n",
      "Prob(Omnibus):                  0.359   Jarque-Bera (JB):                1.215\n",
      "Skew:                           0.354   Prob(JB):                        0.545\n",
      "Kurtosis:                       3.346   Cond. No.                     2.17e+03\n",
      "==============================================================================\n",
      "\n",
      "Notes:\n",
      "[1] R² is computed without centering (uncentered) since the model does not contain a constant.\n",
      "[2] Standard Errors assume that the covariance matrix of the errors is correctly specified.\n",
      "[3] The condition number is large, 2.17e+03. This might indicate that there are\n",
      "strong multicollinearity or other numerical problems.\n"
     ]
    }
   ],
   "source": [
    "model = sm.OLS(Y, X).fit()\n",
    "print(model.summary()) "
   ]
  },
  {
   "cell_type": "markdown",
   "metadata": {},
   "source": [
    "D'où on peut extraire les coefficients du modèle\n",
    ">taille_en_pieds_carre   140.8611\n",
    "\n",
    ">nb_chambres            1.698e+04"
   ]
  },
  {
   "cell_type": "code",
   "execution_count": 6,
   "metadata": {},
   "outputs": [],
   "source": [
    "def predict_price_of_house(taille_maison, nb_chambre):\n",
    " return 140.8611 * taille_maison + 1.698e+04 * nb_chambre"
   ]
  },
  {
   "cell_type": "code",
   "execution_count": 7,
   "metadata": {},
   "outputs": [
    {
     "name": "stdout",
     "output_type": "stream",
     "text": [
      "Predicted price of a house with 4478 sq ft and 5 bedrooms: 715676.01\n",
      "while the actual price is 699900\n"
     ]
    }
   ],
   "source": [
    "print(f\"Predicted price of a house with 4478 sq ft and 5 bedrooms: {predict_price_of_house(4478,5):.2f}\\nwhile the actual price is 699900\")"
   ]
  }
 ],
 "metadata": {
  "kernelspec": {
   "display_name": "Python 3",
   "language": "python",
   "name": "python3"
  },
  "language_info": {
   "codemirror_mode": {
    "name": "ipython",
    "version": 3
   },
   "file_extension": ".py",
   "mimetype": "text/x-python",
   "name": "python",
   "nbconvert_exporter": "python",
   "pygments_lexer": "ipython3",
   "version": "3.12.6"
  }
 },
 "nbformat": 4,
 "nbformat_minor": 2
}
