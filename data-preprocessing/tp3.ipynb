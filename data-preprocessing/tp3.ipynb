{
 "cells": [
  {
   "cell_type": "code",
   "execution_count": 1,
   "metadata": {},
   "outputs": [],
   "source": [
    "import pandas as pd\n",
    "import numpy as np\n",
    "from sklearn.impute import SimpleImputer\n",
    "import matplotlib.pyplot as plt\n",
    "from sklearn.preprocessing import MinMaxScaler\n",
    "from sklearn.datasets import load_iris\n",
    "import seaborn as sns\n",
    "from sklearn.feature_selection import f_classif, chi2, mutual_info_classif"
   ]
  },
  {
   "cell_type": "markdown",
   "metadata": {},
   "source": [
    "Data visualisation"
   ]
  },
  {
   "cell_type": "code",
   "execution_count": 2,
   "metadata": {},
   "outputs": [
    {
     "name": "stdout",
     "output_type": "stream",
     "text": [
      "          B\n",
      "A  count  1    1.0\n",
      "          2    2.0\n",
      "          3    1.0\n",
      "          4    1.0\n",
      "          5    2.0\n",
      "              ... \n",
      "C  max    1    5.0\n",
      "          2    3.0\n",
      "          3    4.0\n",
      "          4    1.0\n",
      "          5    3.0\n",
      "Length: 80, dtype: float64\n"
     ]
    }
   ],
   "source": [
    "df = pd.DataFrame({\n",
    "'A': [0,0,0,0,0,1,1],\n",
    "'B': [1,2,3,5,4,2,5],\n",
    "'C': [5,3,4,1,1,2,3]})\n",
    "a_group_desc = df.groupby('B').describe()\n",
    "unstacked = a_group_desc.unstack()\n",
    "print(unstacked)"
   ]
  },
  {
   "cell_type": "markdown",
   "metadata": {},
   "source": [
    "Détection et suppression des données redondantes"
   ]
  },
  {
   "cell_type": "code",
   "execution_count": null,
   "metadata": {},
   "outputs": [
    {
     "name": "stdout",
     "output_type": "stream",
     "text": [
      "DataFrame original :\n",
      "       Nom  Age      Ville\n",
      "0    Alice   25      Paris\n",
      "1      Bob   30       Lyon\n",
      "2  Charlie   35  Marseille\n",
      "3    Alice   25      Paris\n",
      "4      Bob   30       Lyon\n",
      "     Nom  Age  Ville\n",
      "3  Alice   25  Paris\n",
      "4    Bob   30   Lyon\n",
      "       Nom  Age      Ville\n",
      "0    Alice   25      Paris\n",
      "1      Bob   30       Lyon\n",
      "2  Charlie   35  Marseille\n"
     ]
    }
   ],
   "source": [
    "data = {\n",
    "'Nom': ['Alice', 'Bob', 'Charlie', 'Alice', 'Bob'],\n",
    "'Age': [25, 30, 35, 25, 30],\n",
    "'Ville': ['Paris', 'Lyon', 'Marseille', 'Paris', 'Lyon']\n",
    "}\n",
    "df = pd.DataFrame(data)\n",
    "print(\"DataFrame original :\")\n",
    "print(df)\n",
    "db = df.duplicated()\n",
    "print(df[db]) # Affiche les lignes dupliquées\n",
    "df_new = df.drop_duplicates()\n",
    "print(df_new) # Affiche le DataFrame sans les lignes dupliquées"
   ]
  },
  {
   "cell_type": "code",
   "execution_count": 4,
   "metadata": {},
   "outputs": [
    {
     "name": "stdout",
     "output_type": "stream",
     "text": [
      "       Nom  Age      Ville\n",
      "0    Alice   25      Paris\n",
      "1      Bob   30       Lyon\n",
      "2  Charlie   35  Marseille\n"
     ]
    }
   ],
   "source": [
    "# Supprimer les doublons en fonction de la colonne 'Nom'\n",
    "df_new = df.drop_duplicates(subset=['Nom'])\n",
    "print(df_new)"
   ]
  },
  {
   "cell_type": "markdown",
   "metadata": {},
   "source": [
    "Traitement des données manquantes"
   ]
  },
  {
   "cell_type": "code",
   "execution_count": 5,
   "metadata": {},
   "outputs": [
    {
     "name": "stdout",
     "output_type": "stream",
     "text": [
      "Visualiser les données manquantes : true means a detection of a missing data\n",
      "0    False\n",
      "1    False\n",
      "2    False\n",
      "3     True\n",
      "4    False\n",
      "5    False\n",
      "6     True\n",
      "dtype: bool\n",
      "Isoler les données manquantes\n",
      "3   NaN\n",
      "6   NaN\n",
      "dtype: float64\n",
      "0    1.0\n",
      "1    2.0\n",
      "2    3.0\n",
      "3    3.0\n",
      "4    5.0\n",
      "5    6.0\n",
      "6    3.0\n",
      "dtype: float64\n",
      "0    1.0\n",
      "1    2.0\n",
      "2    3.0\n",
      "4    5.0\n",
      "5    6.0\n",
      "dtype: float64\n"
     ]
    }
   ],
   "source": [
    "s = pd.Series([1, 2, 3, np.NaN, 5, 6, None])\n",
    "print(\"Visualiser les données manquantes : true means a detection of a missing data\")\n",
    "print (s.isnull())\n",
    "print (\"Isoler les données manquantes\")\n",
    "print(s[s.isnull()])\n",
    "print(s.fillna(int(s.mean()))) # Remplace les valeurs manquantes par la moyenne\n",
    "print(s.dropna()) # Supprime les valeurs manquantes"
   ]
  },
  {
   "cell_type": "markdown",
   "metadata": {},
   "source": [
    "Imputation des données manquantes"
   ]
  },
  {
   "cell_type": "code",
   "execution_count": null,
   "metadata": {},
   "outputs": [
    {
     "name": "stdout",
     "output_type": "stream",
     "text": [
      "Data :\n",
      "       x0      x1\n",
      "0  0.3051     NaN\n",
      "1     NaN  0.2654\n",
      "2  0.6974  0.2615\n",
      "3  0.3769  0.5846\n",
      "4  0.2231  0.4615\n",
      "5  0.3410  0.8308\n",
      "6  0.4436  0.4962\n",
      "7  0.5897  0.3269\n",
      "8  0.6308  0.5346\n",
      "9  0.5000  0.6731\n",
      "Moyenne de chaque colonne :\n",
      "0.4564\n",
      "0.4927333333333334\n",
      "Data après imputation\n",
      "[[0.3051     0.49273333]\n",
      " [0.4564     0.2654    ]\n",
      " [0.6974     0.2615    ]\n",
      " [0.3769     0.5846    ]\n",
      " [0.2231     0.4615    ]\n",
      " [0.341      0.8308    ]\n",
      " [0.4436     0.4962    ]\n",
      " [0.5897     0.3269    ]\n",
      " [0.6308     0.5346    ]\n",
      " [0.5        0.6731    ]]\n"
     ]
    },
    {
     "name": "stderr",
     "output_type": "stream",
     "text": [
      "c:\\Users\\My_Computing\\anaconda3\\Lib\\site-packages\\sklearn\\base.py:493: UserWarning: X does not have valid feature names, but SimpleImputer was fitted with feature names\n",
      "  warnings.warn(\n"
     ]
    }
   ],
   "source": [
    "df = pd.DataFrame()\n",
    "df['x0'] = [0.3051,np.nan,0.6974,0.3769,0.2231,0.341,0.4436,0.5897,0.6308,0.5]\n",
    "df['x1'] = [np.nan,0.2654,0.2615,0.5846,0.4615,0.8308,0.4962,0.3269,0.5346,0.6731]\n",
    "print(\"Data :\")\n",
    "print(df)\n",
    "print(\"Moyenne de chaque colonne :\")\n",
    "print(df['x0'].mean())\n",
    "print(df['x1'].mean())\n",
    "mean_imputer = SimpleImputer(strategy='mean', missing_values=np.nan)\n",
    "mean_imputer = mean_imputer.fit(df)\n",
    "imputed_df = mean_imputer.transform(df.values)\n",
    "# View the dataset\n",
    "print(\"Data après imputation\")\n",
    "print(imputed_df)"
   ]
  },
  {
   "cell_type": "markdown",
   "metadata": {},
   "source": [
    "Sorting et Shuffling"
   ]
  },
  {
   "cell_type": "code",
   "execution_count": 7,
   "metadata": {},
   "outputs": [
    {
     "name": "stdout",
     "output_type": "stream",
     "text": [
      "   A  B  C\n",
      "0  2  1  5\n",
      "1  1  2  3\n",
      "2  2  3  4\n",
      "3  3  5  1\n",
      "4  3  4  1\n",
      "5  5  2  2\n",
      "6  4  5  3\n",
      "Le jeu de données est trié selon la colonne 'A'\n",
      "   A  B  C\n",
      "1  1  2  3\n",
      "0  2  1  5\n",
      "2  2  3  4\n",
      "3  3  5  1\n",
      "4  3  4  1\n",
      "6  4  5  3\n",
      "5  5  2  2\n",
      "Le jeu de données mélangé\n",
      "   A  B  C\n",
      "0  2  1  5\n",
      "1  1  2  3\n",
      "2  5  2  2\n",
      "3  2  3  4\n",
      "4  3  4  1\n",
      "5  3  5  1\n",
      "6  4  5  3\n"
     ]
    }
   ],
   "source": [
    "df = pd.DataFrame({'A': [2,1,2,3,3,5,4],'B': [1,2,3,5,4,2,5],'C': [5,3,4,1,1,2,3]})\n",
    "print(df)\n",
    "print(\"Le jeu de données est trié selon la colonne 'A'\")\n",
    "df_sorted = df.sort_values(by=['A'], ascending=[True])\n",
    "# df = df.reset_index(drop=True) -> reinitialiser l'index\n",
    "print(df_sorted)\n",
    "df = df.reset_index(drop=True)\n",
    "# Shuffling du jeu de données selon le cours\n",
    "index = df.index.tolist()\n",
    "np.random.shuffle(index)\n",
    "df = df.reset_index(drop=True)\n",
    "# Shuffling du jeu de données autrement\n",
    "print(\"Le jeu de données mélangé\")\n",
    "df_shuffled = df.sample(frac=1, random_state=42).reset_index(drop=True)\n",
    "print(df_shuffled)\n",
    "# ix[] is no longer valid in the latest version of pandas"
   ]
  },
  {
   "cell_type": "markdown",
   "metadata": {},
   "source": [
    "Transformation des données (Normalisation)"
   ]
  },
  {
   "cell_type": "code",
   "execution_count": 13,
   "metadata": {},
   "outputs": [
    {
     "name": "stdout",
     "output_type": "stream",
     "text": [
      "********** Normalisation*********\n",
      "\n",
      "Moyenne apres le Min max Scaling :\n",
      "MYCT=0.13, MMAX=0.18\n",
      "\n",
      "Valeur minimale et maximale pour les features MYCT et NMAX apres min max scaling: \n",
      "MIN=0.00, MAX=1.00\n",
      "\n",
      "Data après normalisation\n",
      "[[0.07282535 0.09284284]\n",
      " [0.00809171 0.4994995 ]\n",
      " [0.00809171 0.4994995 ]\n",
      " [0.00809171 0.4994995 ]\n",
      " [0.00809171 0.24924925]\n",
      " [0.00606878 0.4994995 ]\n",
      " [0.00404585 0.4994995 ]\n",
      " [0.00404585 0.4994995 ]\n",
      " [0.00404585 1.        ]\n",
      " [0.00404585 1.        ]\n",
      " [0.25826028 0.04592092]\n",
      " [0.25826028 0.05374124]\n",
      " [0.02899528 0.12412412]\n",
      " [0.02225219 0.24924925]\n",
      " [0.22454484 0.        ]\n",
      " [0.12339852 0.24924925]\n",
      " [0.10114633 0.03028028]\n",
      " [0.08496291 0.0772022 ]\n",
      " [0.08496291 0.03028028]\n",
      " [0.06271072 0.0772022 ]\n",
      " [0.08496291 0.09753504]\n",
      " [0.08496291 0.09597097]\n",
      " [0.08496291 0.09597097]\n",
      " [0.06271072 0.09597097]\n",
      " [0.20431558 0.09284284]\n",
      " [0.20431558 0.03028028]\n",
      " [0.20431558 0.09284284]\n",
      " [0.20431558 0.04592092]\n",
      " [0.20431558 0.0772022 ]\n",
      " [0.20431558 0.0772022 ]\n",
      " [0.00539447 0.03997748]\n",
      " [0.00539447 0.03997748]\n",
      " [0.02225219 0.16291291]\n",
      " [0.02225219 0.16291291]\n",
      " [0.02629804 0.32698323]\n",
      " [0.03169252 0.32698323]\n",
      " [0.02225219 0.03028028]\n",
      " [0.02225219 0.06156156]\n",
      " [0.02225219 0.12412412]\n",
      " [0.02225219 0.06156156]\n",
      " [0.02225219 0.12412412]\n",
      " [0.02225219 0.24924925]\n",
      " [0.02225219 0.24924925]\n",
      " [0.02225219 0.24924925]\n",
      " [0.07821982 0.18668669]\n",
      " [0.07821982 0.12412412]\n",
      " [0.5347269  0.00700701]\n",
      " [0.5347269  0.0772022 ]\n",
      " [0.20431558 0.12412412]\n",
      " [0.12339852 0.12412412]\n",
      " [0.46055293 0.12412412]\n",
      " [0.46055293 0.03028028]\n",
      " [0.08293999 0.24924925]\n",
      " [0.12339852 0.12412412]\n",
      " [0.06271072 0.06156156]\n",
      " [0.06271072 0.18668669]\n",
      " [0.13688469 0.12412412]\n",
      " [0.52798382 0.12412412]\n",
      " [0.52798382 0.12412412]\n",
      " [0.52798382 0.12412412]\n",
      " [0.52798382 0.12412412]\n",
      " [0.52798382 0.12412412]\n",
      " [0.07282535 0.01463964]\n",
      " [0.03910991 0.12412412]\n",
      " [0.03910991 0.24924925]\n",
      " [0.03910991 0.24924925]\n",
      " [0.04922454 0.01463964]\n",
      " [0.05933918 0.03028028]\n",
      " [0.05933918 0.06156156]\n",
      " [0.05933918 0.06156156]\n",
      " [0.03910991 0.12412412]\n",
      " [0.03910991 0.12412412]\n",
      " [0.1065408  0.03028028]\n",
      " [0.1908294  0.04592092]\n",
      " [0.1908294  0.04592092]\n",
      " [0.1908294  0.18668669]\n",
      " [0.1908294  0.06938188]\n",
      " [0.1908294  0.18668669]\n",
      " [0.1908294  0.01101101]\n",
      " [0.10991234 0.18668669]\n",
      " [0.21105866 0.04592092]\n",
      " [0.1908294  0.06156156]\n",
      " [0.1908294  0.24924925]\n",
      " [0.21105866 0.03028028]\n",
      " [0.21105866 0.06156156]\n",
      " [0.08293999 0.06156156]\n",
      " [0.08293999 0.06156156]\n",
      " [0.08293999 0.06156156]\n",
      " [0.08293999 0.4994995 ]\n",
      " [0.08293999 0.12412412]\n",
      " [0.08293999 0.4994995 ]\n",
      " [0.08293999 0.4994995 ]\n",
      " [0.08293999 0.06156156]\n",
      " [0.02697235 0.24924925]\n",
      " [0.02697235 0.37437437]\n",
      " [0.00606878 0.4994995 ]\n",
      " [0.00606878 0.4994995 ]\n",
      " [0.00606878 0.4994995 ]\n",
      " [0.00606878 0.24924925]\n",
      " [0.31220499 0.00700701]\n",
      " [0.12542144 0.03028028]\n",
      " [0.06608227 0.09284284]\n",
      " [0.73027647 0.02245996]\n",
      " [0.73027647 0.03028028]\n",
      " [0.39312205 0.03028028]\n",
      " [0.25826028 0.06156156]\n",
      " [0.25826028 0.12412412]\n",
      " [0.5954147  0.01463964]\n",
      " [0.5954147  0.01463964]\n",
      " [0.5954147  0.06156156]\n",
      " [0.5954147  0.06156156]\n",
      " [0.5954147  0.06156156]\n",
      " [0.14025624 0.06156156]\n",
      " [0.14025624 0.06156156]\n",
      " [0.10991234 0.12412412]\n",
      " [0.11328388 0.24924925]\n",
      " [0.10991234 0.24924925]\n",
      " [0.14025624 0.06156156]\n",
      " [0.00539447 0.18668669]\n",
      " [0.00539447 0.18668669]\n",
      " [0.         0.24924925]\n",
      " [0.         0.24924925]\n",
      " [1.         0.01463964]\n",
      " [1.         0.03028028]\n",
      " [0.52798382 0.03028028]\n",
      " [0.02225219 0.06156156]\n",
      " [0.02225219 0.12412412]\n",
      " [0.02225219 0.12412412]\n",
      " [0.02225219 0.24924925]\n",
      " [0.02225219 0.24924925]\n",
      " [0.02225219 0.24924925]\n",
      " [0.05596763 0.12412412]\n",
      " [0.05596763 0.12412412]\n",
      " [0.05596763 0.12412412]\n",
      " [0.02225219 0.24924925]\n",
      " [0.02225219 0.24924925]\n",
      " [0.02225219 0.24924925]\n",
      " [0.08968307 0.06156156]\n",
      " [0.06608227 0.12412412]\n",
      " [0.06608227 0.06156156]\n",
      " [0.05057316 0.12412412]\n",
      " [0.05057316 0.12412412]\n",
      " [0.05057316 0.12412412]\n",
      " [0.03910991 0.24924925]\n",
      " [0.02899528 0.24924925]\n",
      " [0.02899528 0.24924925]\n",
      " [0.02899528 0.24924925]\n",
      " [0.02225219 0.24924925]\n",
      " [0.03708699 0.24924925]\n",
      " [0.03708699 0.12412412]\n",
      " [0.0155091  0.24924925]\n",
      " [0.0155091  0.4994995 ]\n",
      " [0.01213756 0.4994995 ]\n",
      " [0.01416049 0.4994995 ]\n",
      " [0.02090357 0.37437437]\n",
      " [0.01416049 0.4994995 ]\n",
      " [0.00876601 0.4994995 ]\n",
      " [0.06405934 0.01463964]\n",
      " [0.04517869 0.03028028]\n",
      " [0.02629804 0.06156156]\n",
      " [0.02629804 0.09284284]\n",
      " [0.02629804 0.12412412]\n",
      " [0.02629804 0.12412412]\n",
      " [0.02629804 0.18668669]\n",
      " [0.02629804 0.24924925]\n",
      " [0.01416049 0.12412412]\n",
      " [0.01416049 0.12412412]\n",
      " [0.01416049 0.24924925]\n",
      " [0.01416049 0.37437437]\n",
      " [0.01416049 0.24924925]\n",
      " [0.12339852 0.03028028]\n",
      " [0.12339852 0.06156156]\n",
      " [0.12339852 0.12412412]\n",
      " [0.15711396 0.06156156]\n",
      " [0.15711396 0.06156156]\n",
      " [0.15711396 0.24924925]\n",
      " [0.09642616 0.06156156]\n",
      " [0.09642616 0.03028028]\n",
      " [0.09642616 0.06156156]\n",
      " [0.09642616 0.12412412]\n",
      " [0.09642616 0.12412412]\n",
      " [0.15037087 0.01463964]\n",
      " [0.15037087 0.03028028]\n",
      " [0.05933918 0.06156156]\n",
      " [0.05933918 0.09284284]\n",
      " [0.05933918 0.12412412]\n",
      " [0.02360081 0.24924925]\n",
      " [0.03573837 0.18668669]\n",
      " [0.02832097 0.18668669]\n",
      " [0.02832097 0.24924925]\n",
      " [0.00606878 0.37437437]\n",
      " [0.00606878 0.4994995 ]\n",
      " [0.00606878 0.4994995 ]\n",
      " [0.06675657 0.12412412]\n",
      " [0.02225219 0.4994995 ]\n",
      " [0.02225219 0.4994995 ]\n",
      " [0.02225219 0.4994995 ]\n",
      " [0.02225219 0.4994995 ]\n",
      " [0.00876601 1.        ]\n",
      " [0.00876601 1.        ]\n",
      " [0.10991234 0.06156156]\n",
      " [0.10991234 0.06156156]\n",
      " [0.10991234 0.06156156]\n",
      " [0.10991234 0.06156156]\n",
      " [0.07215105 0.12412412]\n",
      " [0.05461902 0.12412412]\n",
      " [0.07282535 0.12412412]\n",
      " [0.31220499 0.12412412]\n",
      " [0.31220499 0.06156156]]\n"
     ]
    }
   ],
   "source": [
    "url = 'https://archive.ics.uci.edu/ml/machine-learning-databases/cpu-performance/machine.data'\n",
    "# Has no Missing Values\n",
    "names= ['constructor','Model','MYCT','MMIN','MMAX','CACH','CHMIN','CHMAX','PRP','ERP']\n",
    "dataset = pd.read_csv(url, names=names)\n",
    "# print(\"data:\") # print(dataset)\n",
    "# MIN MAX SCALING\n",
    "minmax_scale = MinMaxScaler().fit(dataset[['MYCT', 'MMAX']])\n",
    "df_minmax = minmax_scale.transform(dataset[['MYCT', 'MMAX']])\n",
    "print('********** Normalisation*********\\n')\n",
    "print('Moyenne apres le Min max Scaling :\\nMYCT={:.2f}, MMAX={:.2f}'\n",
    ".format(df_minmax[:,0].mean(), df_minmax[:,1].mean()))\n",
    "print('\\nValeur minimale et maximale pour les features MYCT et NMAX apres min max scaling: \\nMIN={:.2f}, MAX={:.2f}'\n",
    ".format(df_minmax[:,0].min(), df_minmax[:,0].max()))\n",
    "# .format(df_minmax[:,1].min(), df_minmax[:,1].max()))\n",
    "print(\"\\nData après normalisation\")\n",
    "print(df_minmax)"
   ]
  },
  {
   "cell_type": "markdown",
   "metadata": {},
   "source": [
    "Reduction des données (Agrégation des données)"
   ]
  },
  {
   "cell_type": "code",
   "execution_count": 9,
   "metadata": {},
   "outputs": [
    {
     "name": "stdout",
     "output_type": "stream",
     "text": [
      "   Map  Values  Sum  Moy\n",
      "0    0       1    6  2.0\n",
      "1    0       2    6  2.0\n",
      "2    0       3    6  2.0\n",
      "3    1       5    9  4.5\n",
      "4    1       4    9  4.5\n",
      "5    2       2    7  3.5\n",
      "6    2       5    7  3.5\n"
     ]
    },
    {
     "name": "stderr",
     "output_type": "stream",
     "text": [
      "C:\\Users\\My_Computing\\AppData\\Local\\Temp\\ipykernel_12296\\4050526321.py:5: FutureWarning: The provided callable <function sum at 0x00000178E12EE7A0> is currently using SeriesGroupBy.sum. In a future version of pandas, the provided callable will be used directly. To keep current behavior pass the string \"sum\" instead.\n",
      "  df['Sum'] = df.groupby('Map')['Values'].transform(np.sum)\n",
      "C:\\Users\\My_Computing\\AppData\\Local\\Temp\\ipykernel_12296\\4050526321.py:6: FutureWarning: The provided callable <function mean at 0x00000178E12EF880> is currently using SeriesGroupBy.mean. In a future version of pandas, the provided callable will be used directly. To keep current behavior pass the string \"mean\" instead.\n",
      "  df['Moy'] = df.groupby('Map')['Values'].transform(np.mean)\n"
     ]
    }
   ],
   "source": [
    "df = pd.DataFrame({\n",
    "    'Map': [0,0,0,1,1,2,2], \n",
    "    'Values': [1,2,3,5,4,2,5]\n",
    "    })\n",
    "df['Sum'] = df.groupby('Map')['Values'].transform(np.sum)\n",
    "df['Moy'] = df.groupby('Map')['Values'].transform(np.mean)\n",
    "print (df)"
   ]
  },
  {
   "cell_type": "markdown",
   "metadata": {},
   "source": [
    "Discrétisation des données"
   ]
  },
  {
   "cell_type": "code",
   "execution_count": 14,
   "metadata": {},
   "outputs": [
    {
     "name": "stdout",
     "output_type": "stream",
     "text": [
      "Discrétisation basée sur des effectifs égaux (ou quantiles) :\n",
      "      sepal length (cm)  sepal width (cm)  petal length (cm)  petal width (cm)\n",
      "0.00                4.3               2.0               1.00               0.1\n",
      "0.25                5.1               2.8               1.60               0.3\n",
      "0.50                5.8               3.0               4.35               1.3\n",
      "0.75                6.4               3.3               5.10               1.8\n",
      "1.00                7.9               4.4               6.90               2.5\n",
      "             sepal length (cm) sepal width (cm) petal length (cm)  \\\n",
      "0    (4.2989999999999995, 5.1]       (3.3, 4.4]      (0.999, 1.6]   \n",
      "1    (4.2989999999999995, 5.1]       (2.8, 3.0]      (0.999, 1.6]   \n",
      "2    (4.2989999999999995, 5.1]       (3.0, 3.3]      (0.999, 1.6]   \n",
      "3    (4.2989999999999995, 5.1]       (3.0, 3.3]      (0.999, 1.6]   \n",
      "4    (4.2989999999999995, 5.1]       (3.3, 4.4]      (0.999, 1.6]   \n",
      "..                         ...              ...               ...   \n",
      "145                 (6.4, 7.9]       (2.8, 3.0]        (5.1, 6.9]   \n",
      "146                 (5.8, 6.4]     (1.999, 2.8]       (4.35, 5.1]   \n",
      "147                 (6.4, 7.9]       (2.8, 3.0]        (5.1, 6.9]   \n",
      "148                 (5.8, 6.4]       (3.3, 4.4]        (5.1, 6.9]   \n",
      "149                 (5.8, 6.4]       (2.8, 3.0]       (4.35, 5.1]   \n",
      "\n",
      "    petal width (cm)  \n",
      "0       (0.099, 0.3]  \n",
      "1       (0.099, 0.3]  \n",
      "2       (0.099, 0.3]  \n",
      "3       (0.099, 0.3]  \n",
      "4       (0.099, 0.3]  \n",
      "..               ...  \n",
      "145       (1.8, 2.5]  \n",
      "146       (1.8, 2.5]  \n",
      "147       (1.8, 2.5]  \n",
      "148       (1.8, 2.5]  \n",
      "149       (1.3, 1.8]  \n",
      "\n",
      "[150 rows x 4 columns]\n",
      "Fréquence dans chanque catégorie\n",
      "group\n",
      "setosa        50\n",
      "versicolor    50\n",
      "virginica     50\n",
      "Name: count, dtype: int64\n",
      "Fréquence pour chaque marge de valeurs\n",
      "petal length (cm)\n",
      "(0.999, 1.6]    44\n",
      "(4.35, 5.1]     41\n",
      "(5.1, 6.9]      34\n",
      "(1.6, 4.35]     31\n",
      "Name: count, dtype: int64\n"
     ]
    }
   ],
   "source": [
    "iris = load_iris()\n",
    "iris_nparray = iris.data\n",
    "iris_dataframe = pd.DataFrame(iris.data, columns=iris.feature_names)\n",
    "iris_dataframe['group'] = pd.Series([iris.target_names[k] for k in iris.target], dtype=\"category\")\n",
    "# print(\"IRIS data values:\")\n",
    "# print(iris_dataframe)\n",
    "'''\n",
    "print(\"Mean value :\")\n",
    "print (iris_dataframe.mean(numeric_only=True))\n",
    "print(\"Median value :\")\n",
    "print (iris_dataframe.median(numeric_only=True))\n",
    "'''\n",
    "\n",
    "print(\"Discrétisation basée sur des effectifs égaux (ou quantiles) :\")\n",
    "# print(iris_dataframe.quantile(np.array([0,.25,.50,.75,1])))\n",
    "quantiles = np.array([0, .25, .50, .75, 1])\n",
    "iris_numeric = iris_dataframe.select_dtypes(include=[np.number])\n",
    "print(iris_numeric.quantile(quantiles, interpolation='linear'))\n",
    "\n",
    "#Le binning transforme les variables numériques en variables catégoriques\n",
    "iris_binned = pd.concat([\n",
    "pd.qcut(iris_dataframe.iloc[:,0], [0, .25, .5, .75, 1]), # Discretize variable into equal-sized buckets based on rank or based on sample quantiles.\n",
    "pd.qcut(iris_dataframe.iloc[:,1], [0, .25, .5, .75, 1]),\n",
    "pd.qcut(iris_dataframe.iloc[:,2], [0, .25, .5, .75, 1]),\n",
    "pd.qcut(iris_dataframe.iloc[:,3], [0, .25, .5, .75, 1]),\n",
    "], join='outer', axis = 1)\n",
    "# print(\"Bining IrisData\")\n",
    "print(iris_binned)\n",
    "\n",
    "#obtenir une fréquence pour chaque variable catégorique de l'ensemble de données\n",
    "print(\"Fréquence dans chanque catégorie\")\n",
    "print (iris_dataframe['group'].value_counts())\n",
    "print(\"Fréquence pour chaque marge de valeurs\")\n",
    "print (iris_binned['petal length (cm)'].value_counts())"
   ]
  },
  {
   "cell_type": "markdown",
   "metadata": {},
   "source": [
    "Réduction de dimension"
   ]
  },
  {
   "cell_type": "code",
   "execution_count": 11,
   "metadata": {},
   "outputs": [
    {
     "name": "stdout",
     "output_type": "stream",
     "text": [
      "Les scores de corrélation des features :\n",
      "chi2 score  [ 10.81782088   3.7107283  116.31261309  67.0483602 ]\n",
      "F - score score  [ 119.26450218   49.16004009 1180.16118225  960.0071468 ]\n",
      "mutual info  [0.50303726 0.23804207 0.98641986 0.9981659 ]\n"
     ]
    },
    {
     "data": {
      "image/png": "[encoded data removed]",
      "text/plain": [
       "<Figure size 640x480 with 2 Axes>"
      ]
     },
     "metadata": {},
     "output_type": "display_data"
    }
   ],
   "source": [
    "iris = load_iris()\n",
    "X,y = iris.data, iris.target\n",
    "chi2_score, chi_2_p_value = chi2(X,y)\n",
    "f_score, f_p_value = f_classif(X,y)\n",
    "mut_info_score = mutual_info_classif(X,y)\n",
    "print(\"Les scores de corrélation des features :\")\n",
    "print('chi2 score ', chi2_score)\n",
    "print('F - score score ', f_score)\n",
    "print('mutual info ', mut_info_score)\n",
    "dataframe = pd.DataFrame(iris.data, columns=iris.feature_names)\n",
    "corr = dataframe.corr()\n",
    "sns.heatmap(corr,\n",
    "xticklabels=corr.columns.values,\n",
    "yticklabels=corr.columns.values)\n",
    "plt.show()"
   ]
  }
 ],
 "metadata": {
  "kernelspec": {
   "display_name": "base",
   "language": "python",
   "name": "python3"
  },
  "language_info": {
   "codemirror_mode": {
    "name": "ipython",
    "version": 3
   },
   "file_extension": ".py",
   "mimetype": "text/x-python",
   "name": "python",
   "nbconvert_exporter": "python",
   "pygments_lexer": "ipython3",
   "version": "3.12.4"
  }
 },
 "nbformat": 4,
 "nbformat_minor": 2
}
